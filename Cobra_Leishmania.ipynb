{
 "cells": [
  {
   "cell_type": "markdown",
   "metadata": {},
   "source": [
    "# Sytem biology for Leishmania microarray data"
   ]
  },
  {
   "cell_type": "markdown",
   "metadata": {},
   "source": [
    "## 1. Introduction"
   ]
  },
  {
   "cell_type": "markdown",
   "metadata": {},
   "source": [
    "## 2.Generating an expression profile dataset\n"
   ]
  },
  {
   "cell_type": "markdown",
   "metadata": {},
   "source": [
    "To integrate genomics data in the model, we need to create a **driven.ExpressionProfile** instance which will handle all the necessary requirements for the purpose.Here we show how we created a driven ExpressionProfile from a dataframe."
   ]
  },
  {
   "cell_type": "code",
   "execution_count": 26,
   "metadata": {},
   "outputs": [],
   "source": [
    "import numpy as np\n",
    "import pandas as pd\n",
    "data=pd.read_csv(\"microarrayexpression_leish.csv\", delimiter = ',', index_col=0)\n",
    "data=data[data.columns[1:2]]"
   ]
  },
  {
   "cell_type": "code",
   "execution_count": 27,
   "metadata": {},
   "outputs": [
    {
     "data": {
      "text/html": [
       "<div>\n",
       "<style scoped>\n",
       "    .dataframe tbody tr th:only-of-type {\n",
       "        vertical-align: middle;\n",
       "    }\n",
       "\n",
       "    .dataframe tbody tr th {\n",
       "        vertical-align: top;\n",
       "    }\n",
       "\n",
       "    .dataframe thead th {\n",
       "        text-align: right;\n",
       "    }\n",
       "</style>\n",
       "<table border=\"1\" class=\"dataframe\">\n",
       "  <thead>\n",
       "    <tr style=\"text-align: right;\">\n",
       "      <th></th>\n",
       "      <th>GSM792471</th>\n",
       "    </tr>\n",
       "  </thead>\n",
       "  <tbody>\n",
       "    <tr>\n",
       "      <th>10338001</th>\n",
       "      <td>11.798713</td>\n",
       "    </tr>\n",
       "    <tr>\n",
       "      <th>10338002</th>\n",
       "      <td>5.395522</td>\n",
       "    </tr>\n",
       "    <tr>\n",
       "      <th>10338003</th>\n",
       "      <td>10.552861</td>\n",
       "    </tr>\n",
       "    <tr>\n",
       "      <th>10338004</th>\n",
       "      <td>9.449955</td>\n",
       "    </tr>\n",
       "    <tr>\n",
       "      <th>10338005</th>\n",
       "      <td>1.720691</td>\n",
       "    </tr>\n",
       "    <tr>\n",
       "      <th>...</th>\n",
       "      <td>...</td>\n",
       "    </tr>\n",
       "    <tr>\n",
       "      <th>10608720</th>\n",
       "      <td>5.965374</td>\n",
       "    </tr>\n",
       "    <tr>\n",
       "      <th>10608721</th>\n",
       "      <td>7.148440</td>\n",
       "    </tr>\n",
       "    <tr>\n",
       "      <th>10608722</th>\n",
       "      <td>2.035790</td>\n",
       "    </tr>\n",
       "    <tr>\n",
       "      <th>10608723</th>\n",
       "      <td>2.093351</td>\n",
       "    </tr>\n",
       "    <tr>\n",
       "      <th>10608724</th>\n",
       "      <td>3.014726</td>\n",
       "    </tr>\n",
       "  </tbody>\n",
       "</table>\n",
       "<p>35556 rows × 1 columns</p>\n",
       "</div>"
      ],
      "text/plain": [
       "<driven.data_sets.expression_profile.ExpressionProfile at 0x19394cf0>"
      ]
     },
     "execution_count": 27,
     "metadata": {},
     "output_type": "execute_result"
    }
   ],
   "source": [
    "from driven import ExpressionProfile\n",
    "data = ExpressionProfile.from_data_frame(data)\n",
    "data"
   ]
  },
  {
   "cell_type": "code",
   "execution_count": 11,
   "metadata": {},
   "outputs": [
    {
     "data": {
      "text/plain": [
       "driven.data_sets.expression_profile.ExpressionProfile"
      ]
     },
     "execution_count": 11,
     "metadata": {},
     "output_type": "execute_result"
    }
   ],
   "source": [
    "type(data)"
   ]
  },
  {
   "cell_type": "markdown",
   "metadata": {},
   "source": [
    "## 3. Generating a model"
   ]
  },
  {
   "cell_type": "markdown",
   "metadata": {},
   "source": [
    "Now that we have an expression dataset, we generate the required model. We use cobrapy to load a new model.\n",
    "Cobrapy supports reading and writing models in SBML (with and without FBC), JSON, YAML, MAT, and pickle formats. Generally, SBML with FBC version 2 is the preferred format for general use. The JSON format may be more useful for cobrapy-specific functionality.The model has been downloadad from [here](http://bigg.ucsd.edu/models/iMM1415)."
   ]
  },
  {
   "cell_type": "code",
   "execution_count": 31,
   "metadata": {},
   "outputs": [],
   "source": [
    "import cobra as cb"
   ]
  },
  {
   "cell_type": "code",
   "execution_count": 32,
   "metadata": {},
   "outputs": [
    {
     "name": "stderr",
     "output_type": "stream",
     "text": [
      "No objective coefficients in model. Unclear what should be optimized\n"
     ]
    }
   ],
   "source": [
    "model = cb.io.read_sbml_model('iMM1415.xml')"
   ]
  },
  {
   "cell_type": "markdown",
   "metadata": {},
   "source": [
    "Both GIMME and GIM3E are now available through the \"driven\" python package which is an extension of cobrapy. "
   ]
  },
  {
   "cell_type": "code",
   "execution_count": 37,
   "metadata": {},
   "outputs": [
    {
     "ename": "NameError",
     "evalue": "name 'model_expression' is not defined",
     "output_type": "error",
     "traceback": [
      "\u001b[1;31m---------------------------------------------------------------------------\u001b[0m",
      "\u001b[1;31mNameError\u001b[0m                                 Traceback (most recent call last)",
      "\u001b[1;32m<ipython-input-37-882ee4c6e89b>\u001b[0m in \u001b[0;36m<module>\u001b[1;34m\u001b[0m\n\u001b[1;32m----> 1\u001b[1;33m \u001b[0mreaction_data\u001b[0m \u001b[1;33m=\u001b[0m \u001b[0mmodel_expression\u001b[0m\u001b[1;33m.\u001b[0m\u001b[0mto_reaction_dict\u001b[0m\u001b[1;33m(\u001b[0m\u001b[0mcondition\u001b[0m\u001b[1;33m=\u001b[0m\u001b[1;34m\"GSM792471\"\u001b[0m\u001b[1;33m,\u001b[0m \u001b[0mmodel\u001b[0m\u001b[1;33m=\u001b[0m\u001b[0mmodel\u001b[0m\u001b[1;33m)\u001b[0m\u001b[1;33m\u001b[0m\u001b[1;33m\u001b[0m\u001b[0m\n\u001b[0m",
      "\u001b[1;31mNameError\u001b[0m: name 'model_expression' is not defined"
     ]
    }
   ],
   "source": [
    "reaction_data = expression_profile.to_reaction_dict(condition=\"GSM792471\", model=model)\n"
   ]
  },
  {
   "cell_type": "code",
   "execution_count": null,
   "metadata": {},
   "outputs": [],
   "source": []
  }
 ],
 "metadata": {
  "kernelspec": {
   "display_name": "Python 3",
   "language": "python",
   "name": "python3"
  },
  "language_info": {
   "codemirror_mode": {
    "name": "ipython",
    "version": 3
   },
   "file_extension": ".py",
   "mimetype": "text/x-python",
   "name": "python",
   "nbconvert_exporter": "python",
   "pygments_lexer": "ipython3",
   "version": "3.8.2"
  }
 },
 "nbformat": 4,
 "nbformat_minor": 2
}
